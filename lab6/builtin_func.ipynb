{
 "cells": [
  {
   "cell_type": "code",
   "execution_count": 3,
   "metadata": {},
   "outputs": [
    {
     "name": "stdout",
     "output_type": "stream",
     "text": [
      "362880\n"
     ]
    }
   ],
   "source": [
    "import math\n",
    "ls=[1,2,3,4,5,6,7,8,9]\n",
    "res=math.prod(ls)\n",
    "print(res)"
   ]
  },
  {
   "cell_type": "code",
   "execution_count": 5,
   "metadata": {},
   "outputs": [
    {
     "name": "stdout",
     "output_type": "stream",
     "text": [
      "Lower case:  8\n",
      "Upper case:  2\n"
     ]
    }
   ],
   "source": [
    "a=str(input())\n",
    "up=0\n",
    "low=0\n",
    "for i in a:\n",
    "    if i.islower():\n",
    "        low+=1\n",
    "    if i.isupper():\n",
    "        up+=1\n",
    "print(\"Lower case: \", low)\n",
    "print(\"Upper case: \", up)"
   ]
  },
  {
   "cell_type": "code",
   "execution_count": 9,
   "metadata": {},
   "outputs": [
    {
     "name": "stdout",
     "output_type": "stream",
     "text": [
      "Palindroom!!!\n"
     ]
    }
   ],
   "source": [
    "b=\"Qazaq\"\n",
    "b1=b.lower()\n",
    "b2=b1 [::-1]\n",
    "if b1==b2:\n",
    "    print(\"Palindroom!!!\")\n",
    "else:\n",
    "    print(\"Not palindrom!!!\")"
   ]
  },
  {
   "cell_type": "code",
   "execution_count": 2,
   "metadata": {},
   "outputs": [],
   "source": [
    "import math\n",
    "import time\n",
    "\n",
    "num = float(input())\n",
    "milliseconds = int(input())  \n",
    "\n",
    "time.sleep(milliseconds / 1000)\n",
    "sqrtres = math.sqrt(num)\n",
    "print(f\"Square root of {num} after {milliseconds} miliseconds is {sqrtres}\")"
   ]
  },
  {
   "cell_type": "code",
   "execution_count": 1,
   "metadata": {},
   "outputs": [
    {
     "name": "stdout",
     "output_type": "stream",
     "text": [
      "False\n"
     ]
    }
   ],
   "source": [
    "t = (True, True, False, True)\n",
    "result = all(t)\n",
    "print(result)\n"
   ]
  }
 ],
 "metadata": {
  "kernelspec": {
   "display_name": "Python 3",
   "language": "python",
   "name": "python3"
  },
  "language_info": {
   "codemirror_mode": {
    "name": "ipython",
    "version": 3
   },
   "file_extension": ".py",
   "mimetype": "text/x-python",
   "name": "python",
   "nbconvert_exporter": "python",
   "pygments_lexer": "ipython3",
   "version": "3.12.8"
  }
 },
 "nbformat": 4,
 "nbformat_minor": 2
}
