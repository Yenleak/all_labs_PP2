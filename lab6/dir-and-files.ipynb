{
 "cells": [
  {
   "cell_type": "code",
   "execution_count": 1,
   "metadata": {},
   "outputs": [
    {
     "name": "stdout",
     "output_type": "stream",
     "text": [
      "\n",
      " Directories: ['.git', 'laaaaaa', 'lab1', 'lab2', 'lab3', 'lab4', 'lab5', 'lab6', 'regex', 'week2', 'week3hw', 'week5', 'week7']\n",
      "\n",
      " Files: ['.gitattributes', 'README.md']\n",
      "\n",
      " All items: ['.git', '.gitattributes', 'laaaaaa', 'lab1', 'lab2', 'lab3', 'lab4', 'lab5', 'lab6', 'README.md', 'regex', 'week2', 'week3hw', 'week5', 'week7']\n"
     ]
    }
   ],
   "source": [
    "import os\n",
    "path = input(\"Enter the directory path: \")  #  \"C:\\Users\\User\\Desktop\\LAB_PP2\\labs\"\n",
    "\n",
    "directories = [d for d in os.listdir(path) if os.path.isdir(os.path.join(path, d))]\n",
    "print(\"\\n Directories:\", directories)\n",
    "\n",
    "files = [f for f in os.listdir(path) if os.path.isfile(os.path.join(path, f))]\n",
    "print(\"\\n Files:\", files)\n",
    "\n",
    "all_items = os.listdir(path)\n",
    "print(\"\\n All items:\", all_items)\n"
   ]
  },
  {
   "cell_type": "code",
   "execution_count": 3,
   "metadata": {},
   "outputs": [
    {
     "name": "stdout",
     "output_type": "stream",
     "text": [
      "True\n",
      "True\n",
      "True\n",
      "True\n"
     ]
    }
   ],
   "source": [
    "import os\n",
    "path = input(\"Enter the directory path: \")  #  \"C:\\Users\\User\\Desktop\\LAB_PP2\\labs\"\n",
    "\n",
    "print(os.path.exists(path))\n",
    "print(os.access(path, os.R_OK))\n",
    "print(os.access(path, os.W_OK))\n",
    "print(os.access(path, os.X_OK))\n"
   ]
  },
  {
   "cell_type": "code",
   "execution_count": 4,
   "metadata": {},
   "outputs": [
    {
     "name": "stdout",
     "output_type": "stream",
     "text": [
      "True\n",
      "labs\n",
      "C:\\Users\\User\\Desktop\\LAB_PP2\n"
     ]
    }
   ],
   "source": [
    "import os\n",
    "path = input(\"Enter the directory path: \")  #  \"C:\\Users\\User\\Desktop\\LAB_PP2\\labs\"\n",
    "\n",
    "print(os.path.exists(path))\n",
    "print(os.path.basename(path))\n",
    "print(os.path.dirname(path))\n"
   ]
  },
  {
   "cell_type": "code",
   "execution_count": 18,
   "metadata": {},
   "outputs": [
    {
     "name": "stdout",
     "output_type": "stream",
     "text": [
      "4\n"
     ]
    }
   ],
   "source": [
    "name=\"el.txt\"\n",
    "\n",
    "with open(name, \"r\") as file:\n",
    "    lin=file.readlines()\n",
    "    print(len(lin))"
   ]
  },
  {
   "cell_type": "code",
   "execution_count": 17,
   "metadata": {},
   "outputs": [
    {
     "name": "stdout",
     "output_type": "stream",
     "text": [
      "DONE!\n"
     ]
    }
   ],
   "source": [
    "name=\"el.txt\"\n",
    "my_list = [\"Apple\\n\", \"Banana\\n\", \"Cherry\\n\", \"Orange\\n\"]\n",
    "\n",
    "with open(name, \"w\") as file:\n",
    "    wrt=file.writelines(my_list)\n",
    "    print(\"DONE!\")"
   ]
  },
  {
   "cell_type": "code",
   "execution_count": 15,
   "metadata": {},
   "outputs": [
    {
     "name": "stdout",
     "output_type": "stream",
     "text": [
      "DONE!\n"
     ]
    }
   ],
   "source": [
    "import string\n",
    "letters = string.ascii_uppercase  # \"ABCDEFGHIJKLMNOPQRSTUVWXYZ\"\n",
    "\n",
    "for letter in letters:\n",
    "    filename = f\"{letter}.txt\"\n",
    "    with open(filename, \"w\") as file:\n",
    "        file.write(f\"This is file {filename}\\n\")\n",
    "\n",
    "print(\"DONE!\")\n"
   ]
  },
  {
   "cell_type": "code",
   "execution_count": 19,
   "metadata": {},
   "outputs": [
    {
     "name": "stdout",
     "output_type": "stream",
     "text": [
      "DONE!\n"
     ]
    }
   ],
   "source": [
    "name1 = \"el.txt\"\n",
    "name2=\"en.txt\"\n",
    "with open(name1, \"r\") as file1:\n",
    "    content = file1.read()\n",
    "\n",
    "with open(name2, \"w\") as file2:\n",
    "    file2.write(content)\n",
    "\n",
    "print(\"DONE!\")"
   ]
  },
  {
   "cell_type": "code",
   "execution_count": 20,
   "metadata": {},
   "outputs": [],
   "source": [
    "import os\n",
    "\n",
    "new_file = \"new_file.txt\"\n",
    "\n",
    "with open(new_file, \"w\") as file:\n",
    "    file.write(\"This is a new file.\\n\")"
   ]
  },
  {
   "cell_type": "code",
   "execution_count": 21,
   "metadata": {},
   "outputs": [
    {
     "name": "stdout",
     "output_type": "stream",
     "text": [
      "File 'C:\\Users\\User\\Desktop\\LAB_PP2\\labs\\lab6\\new_file.txt' has been deleted successfully.\n"
     ]
    }
   ],
   "source": [
    "import os\n",
    "\n",
    "file_path = input(\"Enter the file path to delete: \") #\"C:\\Users\\User\\Desktop\\LAB_PP2\\labs\\lab6\\new_file.txt\"\n",
    "\n",
    "if os.path.exists(file_path):\n",
    "\n",
    "    if os.access(file_path, os.W_OK):\n",
    "        os.remove(file_path)\n",
    "        print(f\"File '{file_path}' has been deleted successfully.\")\n",
    "    else:\n",
    "        print(f\"No write permission to delete '{file_path}'.\")\n",
    "else:\n",
    "    print(f\" File '{file_path}' does not exist.\")\n"
   ]
  }
 ],
 "metadata": {
  "kernelspec": {
   "display_name": "Python 3",
   "language": "python",
   "name": "python3"
  },
  "language_info": {
   "codemirror_mode": {
    "name": "ipython",
    "version": 3
   },
   "file_extension": ".py",
   "mimetype": "text/x-python",
   "name": "python",
   "nbconvert_exporter": "python",
   "pygments_lexer": "ipython3",
   "version": "3.12.8"
  }
 },
 "nbformat": 4,
 "nbformat_minor": 2
}
