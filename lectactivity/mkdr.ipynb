{
 "cells": [
  {
   "cell_type": "code",
   "execution_count": 26,
   "metadata": {},
   "outputs": [
    {
     "name": "stdout",
     "output_type": "stream",
     "text": [
      "Ағымдағы директория: c:\\Users\\User\\Desktop\\LAB_PP2\\lectactivity\\new_folder\\new_folder\\new_folder\n"
     ]
    }
   ],
   "source": [
    "import os\n",
    "\n",
    "current_directory = os.getcwd()\n",
    "print(\"Ағымдағы директория:\", current_directory)\n"
   ]
  },
  {
   "cell_type": "code",
   "execution_count": 38,
   "metadata": {},
   "outputs": [
    {
     "name": "stdout",
     "output_type": "stream",
     "text": [
      "Файлдар мен папкалар: []\n"
     ]
    }
   ],
   "source": [
    "import os\n",
    "\n",
    "files = os.listdir('.')  # Ағымдағы директориядағы файлдар мен папкалар\n",
    "print(\"Файлдар мен папкалар:\", files)\n"
   ]
  },
  {
   "cell_type": "code",
   "execution_count": 35,
   "metadata": {},
   "outputs": [],
   "source": [
    "import os\n",
    "\n",
    "os.mkdir('new_fol2222')  # 'new_folder' деген жаңа папка құру\n"
   ]
  },
  {
   "cell_type": "code",
   "execution_count": null,
   "metadata": {},
   "outputs": [],
   "source": []
  },
  {
   "cell_type": "code",
   "execution_count": 40,
   "metadata": {},
   "outputs": [
    {
     "name": "stdout",
     "output_type": "stream",
     "text": [
      "CSV файл сәтті құрылды!\n"
     ]
    }
   ],
   "source": [
    "import csv\n",
    "\n",
    "# Жаңа CSV файлын құру және оған мәліметтер жазу\n",
    "with open(\"data.csv\", mode=\"w\", newline=\"\", encoding=\"utf-8\") as file:\n",
    "    writer = csv.writer(file)\n",
    "\n",
    "    # Баған атауларын жазу\n",
    "    writer.writerow([\"Аты\", \"Жасы\", \"Мамандығы\"])\n",
    "\n",
    "    # Мәліметтер жазу\n",
    "    writer.writerow([\"Али\", 25, \"Бағдарламашы\"])\n",
    "    writer.writerow([\"Айжан\", 30, \"Дизайнер\"])\n",
    "    writer.writerow([\"Ерасыл\", 22, \"Инженер\"])\n",
    "\n",
    "print(\"CSV файл сәтті құрылды!\")\n"
   ]
  },
  {
   "cell_type": "code",
   "execution_count": 41,
   "metadata": {},
   "outputs": [],
   "source": [
    "data = [\n",
    "    [\"Аты\", \"Жасы\", \"Мамандығы\"],\n",
    "    [\"Али\", 25, \"Бағдарламашы\"],\n",
    "    [\"Айжан\", 30, \"Дизайнер\"],\n",
    "    [\"Ерасыл\", 22, \"Инженер\"],\n",
    "]\n",
    "\n",
    "with open(\"data.csv\", mode=\"w\", newline=\"\", encoding=\"utf-8\") as file:\n",
    "    writer = csv.writer(file)\n",
    "    writer.writerows(data)\n"
   ]
  },
  {
   "cell_type": "code",
   "execution_count": 42,
   "metadata": {},
   "outputs": [
    {
     "name": "stdout",
     "output_type": "stream",
     "text": [
      "Али 25 Бағдарламашы\n",
      "Айжан 30 Дизайнер\n",
      "Ерасыл 22 Инженер\n"
     ]
    }
   ],
   "source": [
    "with open(\"data.csv\", mode=\"r\", encoding=\"utf-8\") as file:\n",
    "    reader = csv.DictReader(file)\n",
    "\n",
    "    for row in reader:\n",
    "        print(row[\"Аты\"], row[\"Жасы\"], row[\"Мамандығы\"])\n"
   ]
  },
  {
   "cell_type": "markdown",
   "metadata": {},
   "source": [
    "\n",
    "\n",
    "| Әдіс | Қызметі |\n",
    "|---|---|\n",
    "| `csv.writer()` | CSV жазу (қарапайым әдіс) |\n",
    "| `csv.DictWriter()` | CSV жазу (сөздік арқылы) |\n",
    "| `csv.reader()` | CSV оқу (список түрінде) |\n",
    "| `csv.DictReader()` | CSV оқу (сөздік түрінде) |\n",
    "| `pandas.read_csv()` | CSV оқу (`pandas` арқылы) |\n",
    "| `pandas.to_csv()` | CSV жазу (`pandas` арқылы) |\n",
    "| `\"a\"` (append режимі) | Файлға жаңа жол қосу |\n"
   ]
  },
  {
   "cell_type": "code",
   "execution_count": null,
   "metadata": {},
   "outputs": [],
   "source": []
  },
  {
   "cell_type": "code",
   "execution_count": null,
   "metadata": {},
   "outputs": [],
   "source": []
  }
 ],
 "metadata": {
  "kernelspec": {
   "display_name": "Python 3",
   "language": "python",
   "name": "python3"
  },
  "language_info": {
   "codemirror_mode": {
    "name": "ipython",
    "version": 3
   },
   "file_extension": ".py",
   "mimetype": "text/x-python",
   "name": "python",
   "nbconvert_exporter": "python",
   "pygments_lexer": "ipython3",
   "version": "3.12.8"
  }
 },
 "nbformat": 4,
 "nbformat_minor": 2
}
