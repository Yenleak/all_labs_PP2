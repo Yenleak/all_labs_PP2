{
 "cells": [
  {
   "cell_type": "markdown",
   "metadata": {},
   "source": [
    "###  Lab 11\n",
    "-Based on previous task 'PhoneBook' implement following, using functions and stored procedures:\n",
    "1.Function that returns all records based on a pattern (example of pattern: part of name, surname, phone number)\n",
    "\n",
    "2.Create procedure to insert new user by name and phone, update phone if user already exists\n",
    "\n",
    "3.Create procedure to insert many new users by list of name and phone. Use loop and if statement in stored procedure. Check correctness of phone in procedure and return all incorrect data.\n",
    "\n",
    "4.Create function to querying data from the tables with pagination (by limit and offset)\n",
    "\n",
    "5.Implement procedure to deleting data from tables by username or phone"
   ]
  },
  {
   "cell_type": "markdown",
   "metadata": {},
   "source": [
    "Create database(phonebook_db11) and table(phonebook):  '''CREATE DATABASE phonebook_db11;'''  \\\\\\ '''CREATE TABLE phonebook(\n",
    "            id SERIAL PRIMARY KEY,\n",
    "            username VARCHAR(50) NOT NULL,\n",
    "            phone VARCHAR(20) NOT NULL,\n",
    "            surname VARCHAR(50) NOT NULL\n",
    "            );'''"
   ]
  },
  {
   "cell_type": "markdown",
   "metadata": {},
   "source": [
    "###1 pattern (function): ''' CREATE OR REPLACE FUNCTION search_pattern(pattern TEXT)\n",
    "RETURNS TABLE (\n",
    "    id INT,\n",
    "    username VARCHAR(50),\n",
    "    surname VARCHAR(50),\n",
    "    phone VARCHAR(50)\n",
    ")\n",
    "AS $$\n",
    "BEGIN\n",
    "    RETURN QUERY\n",
    "    SELECT phonebook.id, phonebook.username, phonebook.surname, phonebook.phone\n",
    "    FROM phonebook\n",
    "    WHERE phonebook.username ILIKE '%' || pattern || '%'\n",
    "       OR phonebook.surname ILIKE '%' || pattern || '%'\n",
    "       OR phonebook.phone ILIKE '%' || pattern || '%';\n",
    "END;\n",
    "$$ LANGUAGE plpgsql;   '''\n",
    "\n",
    "\n",
    "\n",
    "\n",
    "('''SELECT * FROM search_pattern('Yenleak'); ''')"
   ]
  },
  {
   "cell_type": "markdown",
   "metadata": {},
   "source": [
    "###2 insert or update(procedure): '''  CREATE OR REPLACE PROCEDURE insert_or_update_user(uname TEXT, sname TEXT, ph TEXT)\n",
    "AS $$\n",
    "BEGIN\n",
    "    IF EXISTS (SELECT 1 FROM phonebook WHERE username = uname AND surname = sname) THEN\n",
    "        UPDATE phonebook SET phone = ph\n",
    "        WHERE username = uname AND surname = sname;\n",
    "    ELSE\n",
    "        INSERT INTO phonebook(username, surname, phone)\n",
    "        VALUES (uname, sname, ph);\n",
    "    END IF;\n",
    "END;\n",
    "$$ LANGUAGE plpgsql;  '''\n",
    "\n",
    "\n",
    "\n",
    "('''CALL insert_or_update_user('Ali', 'Nurlanov', '+77012345678');''')"
   ]
  },
  {
   "cell_type": "markdown",
   "metadata": {},
   "source": [
    "###3 insert many users(procedure): ''' CREATE OR REPLACE PROCEDURE insert_many_users(users TEXT[][])\n",
    "LANGUAGE plpgsql\n",
    "AS $$\n",
    "DECLARE\n",
    "    i INT := 1;\n",
    "    uname TEXT;\n",
    "    sname TEXT;\n",
    "    ph TEXT;\n",
    "BEGIN\n",
    "    CREATE TEMP TABLE IF NOT EXISTS invalid_data (username TEXT, surname TEXT, phone TEXT);\n",
    "\n",
    "    WHILE i <= array_length(users, 1) LOOP\n",
    "        uname := users[i][1];\n",
    "        sname := users[i][2];\n",
    "        ph := users[i][3];\n",
    "\n",
    "        IF ph ~ '^\\+?[0-9]{10,15}$' THEN\n",
    "            CALL insert_or_update_user(uname, sname, ph);\n",
    "        ELSE\n",
    "            INSERT INTO invalid_data VALUES (uname, sname, ph);\n",
    "        END IF;\n",
    "        i := i + 1;\n",
    "    END LOOP;\n",
    "\n",
    "    -- (cоңында қате деректерді қайтарамыз)\n",
    "    RAISE NOTICE 'Invalid data:';\n",
    "    FOR uname, sname, ph IN SELECT * FROM invalid_data LOOP\n",
    "        RAISE NOTICE 'Invalid: %, %, %', uname, sname, ph;\n",
    "    END LOOP;\n",
    "END;\n",
    "$$;   '''\n",
    "\n",
    "\n",
    "(''' CALL insert_many_users(ARRAY[\n",
    "    ARRAY['Arman', 'Tleujan', '87051234567'],\n",
    "    ARRAY['Didar', 'Serikov', '87001112233'],\n",
    "    ARRAY['Altynai', 'Zhumakhan', 'not-a-number']\n",
    "]);\n",
    " ''')"
   ]
  },
  {
   "cell_type": "markdown",
   "metadata": {},
   "source": [
    "###4 query with pagination(function): ''' CREATE OR REPLACE FUNCTION get_users_paginated(lim INT, off INT)\n",
    "RETURNS TABLE(id INT, username TEXT, surname TEXT, phone TEXT)\n",
    "AS $$\n",
    "BEGIN\n",
    "    RETURN QUERY\n",
    "    SELECT * FROM phonebook ORDER BY id LIMIT lim OFFSET off;\n",
    "END;\n",
    "$$ LANGUAGE plpgsql;    '''\n",
    "\n",
    "\n",
    "(''' SELECT * FROM get_users_paginated(4, 0);  -- алғашқы 1-бет\n",
    "SELECT * FROM get_users_paginated(4, 4);  -- келесі 2-бет\n",
    " ''')"
   ]
  },
  {
   "cell_type": "markdown",
   "metadata": {},
   "source": [
    "###5 delete user(prosedure):  ''' CREATE OR REPLACE PROCEDURE delete_user(u TEXT)\n",
    "AS $$\n",
    "BEGIN\n",
    "    DELETE FROM phonebook WHERE username = u OR phone = u;\n",
    "END;\n",
    "$$ LANGUAGE plpgsql;  '''\n",
    "\n",
    "\n",
    "('''  CALL delete_user('Alikhan');  ''')"
   ]
  }
 ],
 "metadata": {
  "language_info": {
   "name": "python"
  }
 },
 "nbformat": 4,
 "nbformat_minor": 2
}
