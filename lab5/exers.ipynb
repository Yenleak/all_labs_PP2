{
 "cells": [
  {
   "cell_type": "code",
   "execution_count": 4,
   "metadata": {},
   "outputs": [],
   "source": [
    "import re\n",
    "file = \"row.txt\"\n",
    "with open(file, \"r\" , encoding=\"utf-8\") as file:\n",
    "    a=file.read()\n"
   ]
  },
  {
   "cell_type": "code",
   "execution_count": 6,
   "metadata": {},
   "outputs": [],
   "source": [
    "import re\n",
    "file = \"row2.txt\"\n",
    "with open(file, \"r\" , encoding=\"utf-8\") as file:\n",
    "    b=file.read()"
   ]
  },
  {
   "cell_type": "markdown",
   "metadata": {},
   "source": [
    "1. Write a Python program that matches a string that has an 'a' followed by zero or more 'b''s."
   ]
  },
  {
   "cell_type": "code",
   "execution_count": 8,
   "metadata": {},
   "outputs": [
    {
     "name": "stdout",
     "output_type": "stream",
     "text": [
      "['a', 'a', 'a', 'a', 'a']\n"
     ]
    }
   ],
   "source": [
    "\n",
    "pattern=r\"ab*\"\n",
    "\n",
    "c=re.findall(pattern, a)\n",
    "\n",
    "if c:\n",
    "    print(c)\n",
    "else:\n",
    "    print(\"NONE!!!\")\n"
   ]
  },
  {
   "cell_type": "markdown",
   "metadata": {},
   "source": [
    "2. Write a Python program that matches a string that has an `'a'` followed by two to three `'b'`."
   ]
  },
  {
   "cell_type": "code",
   "execution_count": 7,
   "metadata": {},
   "outputs": [
    {
     "name": "stdout",
     "output_type": "stream",
     "text": [
      "['abbb', 'abbb', 'abbb', 'abbb', 'abb', 'abb', 'abb', 'abbb', 'abb', 'abb', 'abb']\n"
     ]
    }
   ],
   "source": [
    "\n",
    "pattern=r\"ab{2,3}\"\n",
    "\n",
    "c=re.findall(pattern, b)\n",
    "\n",
    "if c:\n",
    "    print(c)\n",
    "else:\n",
    "    print(\"NONE!!!\")\n"
   ]
  },
  {
   "cell_type": "markdown",
   "metadata": {},
   "source": [
    "3. Write a Python program to find sequences of lowercase letters joined with a underscore."
   ]
  },
  {
   "cell_type": "code",
   "execution_count": 8,
   "metadata": {},
   "outputs": [
    {
     "name": "stdout",
     "output_type": "stream",
     "text": [
      "NONE!!!\n"
     ]
    }
   ],
   "source": [
    "\n",
    "pattern=r\"^[a-z]+_[a-z]+$\"\n",
    "\n",
    "c=re.findall(pattern, b)\n",
    "\n",
    "if c:\n",
    "    print(c)\n",
    "else:\n",
    "    print(\"NONE!!!\")\n"
   ]
  },
  {
   "cell_type": "markdown",
   "metadata": {},
   "source": [
    "4. Write a Python program to find the sequences of one upper case letter followed by lower case letters."
   ]
  },
  {
   "cell_type": "code",
   "execution_count": 3,
   "metadata": {},
   "outputs": [
    {
     "name": "stdout",
     "output_type": "stream",
     "text": [
      "NONE!!!\n"
     ]
    }
   ],
   "source": [
    "\n",
    "pattern=r\"^[А-Я][а-я]+$\"\n",
    "\n",
    "c=re.findall(pattern, a)\n",
    "\n",
    "if c:\n",
    "    print(c)\n",
    "else:\n",
    "    print(\"NONE!!!\")\n"
   ]
  },
  {
   "cell_type": "markdown",
   "metadata": {},
   "source": [
    "5. Write a Python program that matches a string that has an `'a'` followed by anything, ending in `'b'`."
   ]
  },
  {
   "cell_type": "code",
   "execution_count": 12,
   "metadata": {},
   "outputs": [
    {
     "name": "stdout",
     "output_type": "stream",
     "text": [
      "NONE!!!\n"
     ]
    }
   ],
   "source": [
    "\n",
    "pattern=r\"^a.*b$\"\n",
    "\n",
    "c=re.findall(pattern, a)\n",
    "\n",
    "if c:\n",
    "    print(c)\n",
    "else:\n",
    "    print(\"NONE!!!\")\n"
   ]
  },
  {
   "cell_type": "markdown",
   "metadata": {},
   "source": [
    "\n",
    "6. Write a Python program to replace all occurrences of space, comma, or dot with a colon."
   ]
  },
  {
   "cell_type": "code",
   "execution_count": 13,
   "metadata": {},
   "outputs": [
    {
     "name": "stdout",
     "output_type": "stream",
     "text": [
      "ДУБЛИКАТ\n",
      "Филиал:ТОО:EUROPHARMA:Астана\n",
      "БИН:080841000761\n",
      "НДС:Серия:58001\n",
      ":№:0014377\n",
      "Касса:300-189\n",
      "Смена:10\n",
      "Порядковый:номер:чека:№64\n",
      "Чек:№2331180266\n",
      "Кассир:Аптека:17-1\n",
      "ПРОДАЖА\n",
      "1:\n",
      "Натрия:хлорид:0:9%::200:мл::фл\n",
      "2:000:x:154:00\n",
      "308:00\n",
      "Стоимость\n",
      "308:00\n",
      "2:\n",
      "Борный:спирт:3%::20:мл::фл:\n",
      "1:000:x:51:00\n",
      "51:00\n",
      "Стоимость\n",
      "51:00\n",
      "3:\n",
      "Шприц:2:мл::3-х:комп::(Bioject)\n",
      "2:000:x:16:00\n",
      "32:00\n",
      "Стоимость\n",
      "32:00\n",
      "4:\n",
      "Система:для:инфузии:Vogt:Medical\n",
      "2:000:x:60:00\n",
      "120:00\n",
      "Стоимость\n",
      "120:00\n",
      "5:\n",
      "Naturella:прокладки:Классик:макси:№8\n",
      "1:000:x:310:00\n",
      "310:00\n",
      "Стоимость\n",
      "310:00\n",
      "6:\n",
      "AURA:Ватные:диски:№150\n",
      "1:000:x:461:00\n",
      "461:00\n",
      "Стоимость\n",
      "461:00\n",
      "7:\n",
      "Чистая:линия:скраб:мягкий:50:мл\n",
      "1:000:x:381:00\n",
      "381:00\n",
      "Стоимость\n",
      "381:00\n",
      "8:\n",
      "Чистая:линия::скраб:очищающийабрикос:50:мл\n",
      "1:000:x:386:00\n",
      "386:00\n",
      "Стоимость\n",
      "386:00\n",
      "9:\n",
      "Чистая:линия:скраб:мягкий:50:мл\n",
      "1:000:x:381:00\n",
      "381:00\n",
      "Стоимость\n",
      "381:00\n",
      "10:\n",
      "Carefree:салфетки:Алоэвоздухопроницаемые:№20\n",
      "1:000:x:414:00\n",
      "414:00\n",
      "Стоимость\n",
      "414:00\n",
      "11:\n",
      "Pro:Series:Шампунь:яркий:цвет:500мл\n",
      "1:000:x:841:00\n",
      "841:00\n",
      "Стоимость\n",
      "841:00\n",
      "12:\n",
      "Pro:Series:бальзам-ополаскивательдля:длител:ухода:за:окрашеннымиволосами:Яркий:цвет:500мл\n",
      "1:000:x:841:00\n",
      "841:00\n",
      "Стоимость\n",
      "841:00\n",
      "13:\n",
      "Clear:шампунь:Актив:спорт:2в1мужской::400:мл\n",
      "1:000:x:1:200:00\n",
      "1:200:00\n",
      "Стоимость\n",
      "1:200:00\n",
      "14:\n",
      "Bio:World:(HYDRO:THERAPY)Мицеллярная:вода:5в1::445мл\n",
      "1:000:x:1:152:00\n",
      "1:152:00\n",
      "Стоимость\n",
      "1:152:00\n",
      "15:\n",
      "Bio:World:(HYDRO:THERAPY):Гель-муссдля:умывания:с:гиалуроновойкислотой::250мл\n",
      "1:000:x:1:152:00\n",
      "1:152:00\n",
      "Стоимость\n",
      "1:152:00\n",
      "16:\n",
      "[RX]-Натрия:хлорид:0:9%::100:мл::фл:\n",
      "1:000:x:168:00\n",
      "168:00\n",
      "Стоимость\n",
      "168:00\n",
      "17:\n",
      "[RX]-Дисоль:р-р:400:мл::фл:\n",
      "1:000:x:163:00\n",
      "163:00\n",
      "Стоимость\n",
      "163:00\n",
      "18:\n",
      "Тагансорбент:с:иономи:серебра:№30:пор:\n",
      "1:000:x:1:526:00\n",
      "1:526:00\n",
      "Стоимость\n",
      "1:526:00\n",
      "19:\n",
      "[RX]-Церукал:2%::2:мл::№10::амп:\n",
      "2:000:x:396:00\n",
      "792:00\n",
      "Стоимость\n",
      "792:00\n",
      "20:\n",
      "[RX]-Андазол:200:мг::№40::табл:\n",
      "1:000:x:7:330:00\n",
      "7:330:00\n",
      "Стоимость\n",
      "7:330:00\n",
      "Банковская:карта:\n",
      "18:009:00\n",
      "ИТОГО:\n",
      "18:009:00\n",
      "в:т:ч::НДС:12%:\n",
      "0:00\n",
      "Фискальный:признак:\n",
      "2331180266\n",
      "Время::18:04:2019:11:13:58\n",
      "г::Нур-султан:Казахстан::Мангилик:Ел:19::нп-5\n",
      "Оператор:фискальных:данных::АО\"Казахтелеком\"Для:проверки:чека:зайдите:на:сайт:consumer:oofd:kz\n",
      "ФИСКАЛЬНЫЙ:ЧЕК\n",
      "ФП\n",
      "ИНК:ОФД::311559\n",
      "Код:ККМ:КГД:(РНМ)::620300145316\n",
      "ЗНМ::SWK00034961\n",
      "WEBKASSA:KZ\n",
      "\n"
     ]
    }
   ],
   "source": [
    "\n",
    "pattern=r\"[ ,.]\"\n",
    "res=re.sub(pattern,\":\", a)\n",
    "print(res)"
   ]
  },
  {
   "cell_type": "markdown",
   "metadata": {},
   "source": [
    "7. Write a python program to convert snake case string to camel case string."
   ]
  },
  {
   "cell_type": "code",
   "execution_count": 14,
   "metadata": {},
   "outputs": [
    {
     "name": "stdout",
     "output_type": "stream",
     "text": [
      "HellOWorlDPythoNRegulaRExpressions\n"
     ]
    }
   ],
   "source": [
    "pattern = r\"([a-z])_\"\n",
    "string =  \"hello_world_python_regular_expressions\"\n",
    "res = re.sub(pattern, lambda m: m.group(1).upper(), string.title())\n",
    "print(res) \n"
   ]
  },
  {
   "cell_type": "markdown",
   "metadata": {},
   "source": [
    "8. Write a Python program to split a string at uppercase letters."
   ]
  },
  {
   "cell_type": "code",
   "execution_count": 7,
   "metadata": {},
   "outputs": [
    {
     "name": "stdout",
     "output_type": "stream",
     "text": [
      "['Hello', 'World', 'Python', 'Regular', 'Expressions']\n"
     ]
    }
   ],
   "source": [
    "pattern = r\"(?=[A-Z])\"\n",
    "string = \"HelloWorldPythonRegularExpressions\"\n",
    "res = re.split(pattern, string)[1:] # <- бұл сөйлем алдындағы пустой жолды алып тастауға көмектеседі \" \"\n",
    "print(res) \n"
   ]
  },
  {
   "cell_type": "markdown",
   "metadata": {},
   "source": [
    "9. Write a Python program to insert spaces between words starting with capital letters."
   ]
  },
  {
   "cell_type": "code",
   "execution_count": 8,
   "metadata": {},
   "outputs": [
    {
     "name": "stdout",
     "output_type": "stream",
     "text": [
      "Hello World Python Regular Expressions\n"
     ]
    }
   ],
   "source": [
    "pattern = r\"([a-z])([A-Z])\"\n",
    "string = \"HelloWorldPythonRegularExpressions\"\n",
    "res = re.sub(pattern, r\"\\1 \\2\", string)  #типо бас әріптерді бөлек, кіші әріптерді бөлек топтап, сосын кіші әріптер жанына бас әріптерді қосып жібереді\n",
    "print(res)\n"
   ]
  },
  {
   "cell_type": "markdown",
   "metadata": {},
   "source": [
    "\n",
    "10. Write a Python program to convert a given camel case string to snake case."
   ]
  },
  {
   "cell_type": "code",
   "execution_count": 15,
   "metadata": {},
   "outputs": [
    {
     "name": "stdout",
     "output_type": "stream",
     "text": [
      "hello_world_python_regular_expressions\n"
     ]
    }
   ],
   "source": [
    "pattern = r\"([a-z])([A-Z])\"\n",
    "string = \"HelloWorldPythonRegularExpressions\"\n",
    "res = re.sub(pattern, r\"\\1_\\2\", string).lower()\n",
    "print(res) \n"
   ]
  }
 ],
 "metadata": {
  "kernelspec": {
   "display_name": "Python 3",
   "language": "python",
   "name": "python3"
  },
  "language_info": {
   "codemirror_mode": {
    "name": "ipython",
    "version": 3
   },
   "file_extension": ".py",
   "mimetype": "text/x-python",
   "name": "python",
   "nbconvert_exporter": "python",
   "pygments_lexer": "ipython3",
   "version": "3.12.8"
  }
 },
 "nbformat": 4,
 "nbformat_minor": 2
}
