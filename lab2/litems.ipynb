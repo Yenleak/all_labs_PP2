{
 "cells": [
  {
   "cell_type": "code",
   "execution_count": 1,
   "metadata": {},
   "outputs": [
    {
     "name": "stdout",
     "output_type": "stream",
     "text": [
      "cat\n",
      "horse\n",
      "['dog', 'cow']\n",
      "['mouse', 'cat', 'dog', 'cow']\n",
      "['dog', 'cow', 'sheep', 'horse']\n",
      "['dog', 'cow', 'sheep']\n"
     ]
    }
   ],
   "source": [
    "thislist = [\"mouse\", \"cat\", \"dog\",\"cow\",\"sheep\",\"horse\"]\n",
    "print(thislist[1])\n",
    "print(thislist[-1])\n",
    "print(thislist[2:4])\n",
    "print(thislist[:4])\n",
    "print(thislist[2:])\n",
    "print(thislist[-4:-1])"
   ]
  },
  {
   "cell_type": "code",
   "execution_count": 2,
   "metadata": {},
   "outputs": [
    {
     "name": "stdout",
     "output_type": "stream",
     "text": [
      "Yes, 'cow' is in the pets list\n"
     ]
    }
   ],
   "source": [
    "thislist = [\"mouse\", \"cat\", \"dog\",\"cow\",\"sheep\",\"horse\"]\n",
    "if \"cow\" in thislist:\n",
    "    print(\"Yes, 'cow' is in the pets list\") "
   ]
  },
  {
   "cell_type": "code",
   "execution_count": 3,
   "metadata": {},
   "outputs": [
    {
     "name": "stdout",
     "output_type": "stream",
     "text": [
      "['mouse', 'cat', 'apple', 'cow', 'sheep', 'horse']\n"
     ]
    }
   ],
   "source": [
    "thislist = [\"mouse\", \"cat\", \"dog\",\"cow\",\"sheep\",\"horse\"]\n",
    "if \"cow\" in thislist:\n",
    "    print(\"Yes, 'cow' is in the pets list\") "
   ]
  },
  {
   "cell_type": "code",
   "execution_count": 4,
   "metadata": {},
   "outputs": [
    {
     "name": "stdout",
     "output_type": "stream",
     "text": [
      "['mouse', 'apple', 'kiwi', 'cow', 'sheep', 'horse']\n"
     ]
    }
   ],
   "source": [
    "thislist = [\"mouse\", \"cat\", \"dog\",\"cow\",\"sheep\",\"horse\"]\n",
    "thislist[1:3]=[\"apple\",\"kiwi\"]\n",
    "print(thislist)"
   ]
  },
  {
   "cell_type": "code",
   "execution_count": 5,
   "metadata": {},
   "outputs": [
    {
     "name": "stdout",
     "output_type": "stream",
     "text": [
      "['mouse', 'cat', 'kiwi', 'cow', 'sheep', 'horse']\n"
     ]
    }
   ],
   "source": [
    "thislist = [\"mouse\", \"cat\", \"dog\",\"cow\",\"sheep\",\"horse\"]\n",
    "thislist[2:3]=[\"kiwi\"]\n",
    "print(thislist)"
   ]
  },
  {
   "cell_type": "code",
   "execution_count": 6,
   "metadata": {},
   "outputs": [
    {
     "name": "stdout",
     "output_type": "stream",
     "text": [
      "['mouse', 'cat', 'apple', 'dog', 'cow', 'sheep', 'horse']\n"
     ]
    }
   ],
   "source": [
    "thislist = [\"mouse\", \"cat\", \"dog\",\"cow\",\"sheep\",\"horse\"]\n",
    "thislist.insert(2, \"apple\")\n",
    "print(thislist)"
   ]
  },
  {
   "cell_type": "code",
   "execution_count": 7,
   "metadata": {},
   "outputs": [
    {
     "name": "stdout",
     "output_type": "stream",
     "text": [
      "['mouse', 'cat', 'dog', 'cow', 'sheep', 'horse', 'apple']\n"
     ]
    }
   ],
   "source": [
    "thislist = [\"mouse\", \"cat\", \"dog\",\"cow\",\"sheep\",\"horse\"]\n",
    "thislist.append(\"apple\")\n",
    "print(thislist)"
   ]
  },
  {
   "cell_type": "code",
   "execution_count": 8,
   "metadata": {},
   "outputs": [
    {
     "name": "stdout",
     "output_type": "stream",
     "text": [
      "['dog', 'cat', 'apple', 'banana', 'kiwi']\n"
     ]
    }
   ],
   "source": [
    "fruit=[\"apple\",\"banana\",\"kiwi\"]\n",
    "pets=[\"dog\",\"cat\"]\n",
    "pets.extend(fruit)\n",
    "print(pets)"
   ]
  },
  {
   "cell_type": "code",
   "execution_count": 10,
   "metadata": {},
   "outputs": [
    {
     "name": "stdout",
     "output_type": "stream",
     "text": [
      "('dog', 'cat')\n"
     ]
    }
   ],
   "source": [
    "fruit=[\"apple\",\"banana\",\"kiwi\"]\n",
    "pets=(\"dog\",\"cat\")\n",
    "fruit.extend(pets)\n",
    "print(pets)"
   ]
  },
  {
   "cell_type": "code",
   "execution_count": 12,
   "metadata": {},
   "outputs": [
    {
     "name": "stdout",
     "output_type": "stream",
     "text": [
      "['apple', 'cherry']\n"
     ]
    }
   ],
   "source": [
    "thislist = [\"apple\", \"banana\", \"cherry\"]\n",
    "thislist.remove(\"banana\")\n",
    "print(thislist)"
   ]
  },
  {
   "cell_type": "code",
   "execution_count": 11,
   "metadata": {},
   "outputs": [
    {
     "name": "stdout",
     "output_type": "stream",
     "text": [
      "['banana']\n"
     ]
    }
   ],
   "source": [
    "thislist = [\"apple\", \"banana\", \"cherry\", \"banana\", \"kiwi\"]\n",
    "thislist.remove(\"banana\")\n",
    "thislist.pop(1)\n",
    "thislist.pop()\n",
    "del thislist[0]\n",
    "print(thislist)"
   ]
  },
  {
   "cell_type": "code",
   "execution_count": 14,
   "metadata": {},
   "outputs": [
    {
     "name": "stdout",
     "output_type": "stream",
     "text": [
      "[]\n"
     ]
    }
   ],
   "source": [
    "thislist = [\"apple\", \"banana\", \"cherry\"]\n",
    "thislist.clear()\n",
    "print(thislist)"
   ]
  },
  {
   "cell_type": "code",
   "execution_count": 15,
   "metadata": {},
   "outputs": [
    {
     "name": "stdout",
     "output_type": "stream",
     "text": [
      "apple\n",
      "banana\n",
      "cherry\n"
     ]
    }
   ],
   "source": [
    "thislist = [\"apple\", \"banana\", \"cherry\"]\n",
    "for i in range(len(thislist)):\n",
    "  print(thislist[i])"
   ]
  },
  {
   "cell_type": "code",
   "execution_count": 16,
   "metadata": {},
   "outputs": [
    {
     "name": "stdout",
     "output_type": "stream",
     "text": [
      "apple\n",
      "banana\n",
      "cherry\n",
      "apple\n",
      "banana\n",
      "cherry\n"
     ]
    }
   ],
   "source": [
    "thislist = [\"apple\", \"banana\", \"cherry\"]\n",
    "[print(x) for x in thislist]\n",
    "\n",
    "i = 0\n",
    "while i < len(thislist):\n",
    "  print(thislist[i])\n",
    "  i = i + 1"
   ]
  },
  {
   "cell_type": "code",
   "execution_count": 17,
   "metadata": {},
   "outputs": [
    {
     "name": "stdout",
     "output_type": "stream",
     "text": [
      "['cat']\n"
     ]
    }
   ],
   "source": [
    "thislist = [\"mouse\", \"cat\", \"dog\",\"cow\",\"sheep\",\"horse\"]\n",
    "newlist = []\n",
    "\n",
    "for x in thislist:\n",
    "  if \"a\" in x:\n",
    "    newlist.append(x)\n",
    "\n",
    "print(newlist)"
   ]
  },
  {
   "cell_type": "code",
   "execution_count": 22,
   "metadata": {},
   "outputs": [
    {
     "name": "stdout",
     "output_type": "stream",
     "text": [
      "['sheep', 'mouse', 'horse', 'dog', 'cow', 'cat']\n"
     ]
    }
   ],
   "source": [
    "thislist = [\"mouse\", \"cat\", \"dog\",\"cow\",\"sheep\",\"horse\"]\n",
    "thislist.sort()\n",
    "thislist.sort(reverse = True)\n",
    "print(thislist)\n",
    "\n",
    "\n"
   ]
  },
  {
   "cell_type": "code",
   "execution_count": 23,
   "metadata": {},
   "outputs": [
    {
     "name": "stdout",
     "output_type": "stream",
     "text": [
      "['cat', 'Cow', 'dog', 'Horse', 'Mouse', 'sheep']\n"
     ]
    }
   ],
   "source": [
    "thislist = [\"Mouse\", \"cat\", \"dog\",\"Cow\",\"sheep\",\"Horse\"]\n",
    "thislist.sort(key = str.lower)\n",
    "print(thislist)"
   ]
  },
  {
   "cell_type": "code",
   "execution_count": null,
   "metadata": {},
   "outputs": [],
   "source": [
    "thislist = [\"mouse\", \"cat\", \"dog\",\"cow\",\"sheep\",\"horse\"]\n",
    "mylist = thislist.copy()\n",
    "print(mylist)"
   ]
  },
  {
   "cell_type": "code",
   "execution_count": null,
   "metadata": {},
   "outputs": [],
   "source": [
    "thislist = [\"mouse\", \"cat\", \"dog\",\"cow\",\"sheep\",\"horse\"]\n",
    "mylist = thislist[:]\n",
    "print(mylist)"
   ]
  },
  {
   "cell_type": "code",
   "execution_count": null,
   "metadata": {},
   "outputs": [],
   "source": [
    "list1 = [\"a\", \"b\", \"c\"]\n",
    "list2 = [1, 2, 3]\n",
    "\n",
    "list3 = list1 + list2\n",
    "print(list3)"
   ]
  }
 ],
 "metadata": {
  "kernelspec": {
   "display_name": "Python 3",
   "language": "python",
   "name": "python3"
  },
  "language_info": {
   "codemirror_mode": {
    "name": "ipython",
    "version": 3
   },
   "file_extension": ".py",
   "mimetype": "text/x-python",
   "name": "python",
   "nbconvert_exporter": "python",
   "pygments_lexer": "ipython3",
   "version": "3.12.8"
  }
 },
 "nbformat": 4,
 "nbformat_minor": 2
}
