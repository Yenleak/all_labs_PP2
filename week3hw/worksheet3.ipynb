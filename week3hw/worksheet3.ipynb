{
 "cells": [
  {
   "cell_type": "code",
   "execution_count": 17,
   "metadata": {},
   "outputs": [
    {
     "name": "stdout",
     "output_type": "stream",
     "text": [
      "the that t this "
     ]
    }
   ],
   "source": [
    "#1 Use for, .split () and if to create an operator that will print words starting with 't':\n",
    "\n",
    "st = 'Print only the words that start with t in this sentence'\n",
    "x = st.split()\n",
    "for i in x:\n",
    "    if i[0].lower()==\"t\":\n",
    "        print(i, end=\" \")"
   ]
  },
  {
   "cell_type": "code",
   "execution_count": 16,
   "metadata": {},
   "outputs": [
    {
     "name": "stdout",
     "output_type": "stream",
     "text": [
      "0 2 4 6 8 10 "
     ]
    }
   ],
   "source": [
    "#2 Use Range () to print all even numbers from 0 to 10. (Do not use operators for, While, if)\n",
    "\n",
    "a=range(0,11,2)\n",
    "for i in a:\n",
    "    print(i, end=\" \")"
   ]
  },
  {
   "cell_type": "code",
   "execution_count": 24,
   "metadata": {},
   "outputs": [
    {
     "name": "stdout",
     "output_type": "stream",
     "text": [
      "[3, 6, 9, 12, 15, 18, 21, 24, 27, 30, 33, 36, 39, 42, 45, 48]\n"
     ]
    }
   ],
   "source": [
    "#3 Complete ** List ** of all numbers from 1 to 50, which are divided into 3. (namely the list)\n",
    "\n",
    "num=list()\n",
    "for i in range(1,50):\n",
    "    if i%3==0:\n",
    "        num.append(i)\n",
    "print(num)"
   ]
  },
  {
   "cell_type": "code",
   "execution_count": 22,
   "metadata": {},
   "outputs": [
    {
     "name": "stdout",
     "output_type": "stream",
     "text": [
      "even!\n"
     ]
    }
   ],
   "source": [
    "#4 View the line below and, if the length of the word is even, bring “even!”\n",
    "\n",
    "st = 'Print every word in this sentence that has an even number of letters'\n",
    "a=len(st)\n",
    "if a%2==0:\n",
    "    print(\"even!\")"
   ]
  },
  {
   "cell_type": "code",
   "execution_count": 29,
   "metadata": {},
   "outputs": [
    {
     "name": "stdout",
     "output_type": "stream",
     "text": [
      "['C', 'a', 'l', 'o', 't', 'f', 'l', 'o', 'e', 'w', 'i', 't', 's']\n"
     ]
    }
   ],
   "source": [
    "#5 Create a list of the first letters of each word in a line below:\n",
    "\n",
    "st = 'Create a list of the first letters of every word in this string'\n",
    "x=st.split()\n",
    "a=[]\n",
    "for i in x:\n",
    "    a.append(i[0])\n",
    "print(a)"
   ]
  },
  {
   "cell_type": "code",
   "execution_count": 31,
   "metadata": {},
   "outputs": [
    {
     "name": "stdout",
     "output_type": "stream",
     "text": [
      "55\n",
      "55\n"
     ]
    }
   ],
   "source": [
    "#6 Find the amount of numbers in the list below: (with two ways)\n",
    "#1)\n",
    "l = [1,2,3,4,5,6,7,8,9,10]\n",
    "print(sum(l))\n",
    "\n",
    "#2)\n",
    "l = [1,2,3,4,5,6,7,8,9,10]\n",
    "n=0\n",
    "for i in l:\n",
    "    n+=i\n",
    "print(n)"
   ]
  },
  {
   "cell_type": "code",
   "execution_count": 33,
   "metadata": {},
   "outputs": [
    {
     "name": "stdout",
     "output_type": "stream",
     "text": [
      "1890\n"
     ]
    }
   ],
   "source": [
    "#7 Write the program on Python to multiply all the elements in the list.\n",
    "\n",
    "l = [2,5,7,3,9]\n",
    "n=1\n",
    "for i in l:\n",
    "    n*=i\n",
    "print(n)"
   ]
  },
  {
   "cell_type": "code",
   "execution_count": 34,
   "metadata": {},
   "outputs": [
    {
     "name": "stdout",
     "output_type": "stream",
     "text": [
      "101\n"
     ]
    }
   ],
   "source": [
    "#8 Write the program on Python to get the largest number from the list.\n",
    "l = [2,5,7,3,9,11,50,101]\n",
    "print(max(l))"
   ]
  },
  {
   "cell_type": "code",
   "execution_count": 36,
   "metadata": {},
   "outputs": [
    {
     "name": "stdout",
     "output_type": "stream",
     "text": [
      "['Darkhan', 'Azamat']\n"
     ]
    }
   ],
   "source": [
    "#9 Write the program on Python to find common elements from two lists.\n",
    "\n",
    "team_1 = [\"Darkhan\", \"Abilay\", \"Azamat\", \"Zhasulan\"]\n",
    "team_2 = [\"Azamat\", \"Darkhan\", \"Aset\", \"Bolat\",\"Saken\"]\n",
    "res=[]\n",
    "for i in team_1:\n",
    "    for j in team_2:\n",
    "        if i==j:\n",
    "            res.append(i)\n",
    "print(res)\n",
    "    "
   ]
  },
  {
   "cell_type": "code",
   "execution_count": 37,
   "metadata": {},
   "outputs": [
    {
     "name": "stdout",
     "output_type": "stream",
     "text": [
      "[10, 20, 30, 1, 2, 3, 4, 5, 6]\n"
     ]
    }
   ],
   "source": [
    "#10 Write the program on Python to expand the list without .Append ().\n",
    "l_1 = [10,20,30]\n",
    "l_2 = [1,2,3,4,5,6]\n",
    "print(l_1+l_2)\n"
   ]
  },
  {
   "cell_type": "code",
   "execution_count": 40,
   "metadata": {},
   "outputs": [
    {
     "name": "stdout",
     "output_type": "stream",
     "text": [
      "293\n"
     ]
    }
   ],
   "source": [
    "#11 Write the program on Python to summarize all the elements in the dictionary.\n",
    "my_dict = {'data1':100,'data2':-54,'data3':247}\n",
    "print(my_dict['data1']+my_dict['data2']+my_dict['data3'])\n"
   ]
  },
  {
   "cell_type": "code",
   "execution_count": 42,
   "metadata": {},
   "outputs": [
    {
     "name": "stdout",
     "output_type": "stream",
     "text": [
      "247\n",
      "-54\n"
     ]
    }
   ],
   "source": [
    "#12 Write the program on Python to get the maximum and minimum value in the dictionary.\n",
    "my_dict = {'data1':100,'data2':-54,'data3':247}\n",
    "n=[]\n",
    "n.append(my_dict['data1'])\n",
    "n.append(my_dict['data2'])\n",
    "n.append(my_dict['data3'])\n",
    "print(max(n))\n",
    "print(min(n))\n"
   ]
  },
  {
   "cell_type": "code",
   "execution_count": null,
   "metadata": {},
   "outputs": [],
   "source": [
    "#13 Write the program on Python to find those numbers that are divided by 7 and are multiple 5, between 1500 and 2700 (both are included).\n",
    "for i in range(1500,2701):\n",
    "    if(i%7==0)and(i%5==0):\n",
    "        print(i)"
   ]
  },
  {
   "cell_type": "code",
   "execution_count": 43,
   "metadata": {},
   "outputs": [
    {
     "name": "stdout",
     "output_type": "stream",
     "text": [
      "even:  6\n",
      "odd:  5\n"
     ]
    }
   ],
   "source": [
    "#14 Write the program on Python to count the number of even and odd numbers from a series of numbers.\n",
    "numbers = (10,11,12,13,14,15,16,17,18,19,20)\n",
    "even=0\n",
    "odd=0\n",
    "for i in numbers:\n",
    "    if i%2==0:\n",
    "        even+=1\n",
    "    else:\n",
    "        odd+=1\n",
    "print(\"even: \",even)\n",
    "print(\"odd: \",odd)\n"
   ]
  },
  {
   "cell_type": "code",
   "execution_count": 50,
   "metadata": {},
   "outputs": [
    {
     "name": "stdout",
     "output_type": "stream",
     "text": [
      "0\n",
      "0\n",
      "1\n",
      "1\n",
      "2\n",
      "2\n",
      "4\n",
      "4\n",
      "8\n",
      "8\n",
      "16\n",
      "16\n",
      "32\n"
     ]
    }
   ],
   "source": [
    "#15 Write the program on Python to get a series of Fibonacci from 0 to 50.\n",
    "x=0\n",
    "y=1\n",
    "print(x)\n",
    "while y<50:\n",
    "    print(x)\n",
    "    print(y)\n",
    "    x=y\n",
    "    y=x+y\n"
   ]
  },
  {
   "cell_type": "code",
   "execution_count": 1,
   "metadata": {},
   "outputs": [
    {
     "name": "stdout",
     "output_type": "stream",
     "text": [
      "61.0\n"
     ]
    }
   ],
   "source": [
    "#16 Write the program on Python for calculating the age of the dog by dog ​​years. (For a given number 12, the conclusion should be 61 = 2x10.5+10x4)\n",
    "a=int(input())\n",
    "y=a-2\n",
    "print(2*10.5+y*4)"
   ]
  },
  {
   "cell_type": "code",
   "execution_count": 5,
   "metadata": {},
   "outputs": [
    {
     "name": "stdout",
     "output_type": "stream",
     "text": [
      "ақпан айында 28 күн бар.\n"
     ]
    }
   ],
   "source": [
    "#17 Write the program on Python to convert the name of the month into the number of days.\n",
    "def days_in_month(month):\n",
    "    month_days = {\n",
    "        \"қаңтар\": 31, \"ақпан\": 28, \"наурыз\": 31, \"сәуір\": 30,\n",
    "        \"мамаыр\": 31, \"маусым\": 30, \"шілде\": 31, \"тамыз\": 31,\n",
    "        \"қыркүйек\": 30, \"қазан\": 31, \"қараша\": 30, \"желтоқсан\": 31\n",
    "    }\n",
    "    return month_days.get(month.lower(), \"Қате ай атауы!\")\n",
    "\n",
    "# Мысал\n",
    "month = input(\"Ай атауын енгізіңіз: \")\n",
    "print(f\"{month} айында {days_in_month(month)} күн.\")\n"
   ]
  },
  {
   "cell_type": "code",
   "execution_count": 1,
   "metadata": {},
   "outputs": [],
   "source": [
    "#18 Check whether the word is a palindrome or not.\n",
    "def is_palindrome(word):\n",
    "    word = word.lower() \n",
    "    return word == word[::-1]\n",
    "\n",
    "word = input()\n",
    "if is_palindrome(word):\n",
    "    print(\"this word is a palindrome\")\n",
    "else:\n",
    "    print(\"this word is not a palindrome\")\n"
   ]
  },
  {
   "cell_type": "code",
   "execution_count": 1,
   "metadata": {},
   "outputs": [
    {
     "name": "stdout",
     "output_type": "stream",
     "text": [
      "-29\n"
     ]
    }
   ],
   "source": [
    "students = [1, 11, 13, 6, 14, 10, 23, 25, 16, 23, 30, 9]\n",
    "ev=0\n",
    "od=0\n",
    "for el in students:\n",
    "    if el%2==0:\n",
    "        ev+=el\n",
    "    else:\n",
    "        od+=el\n",
    "x=ev-od\n",
    "print(x)"
   ]
  },
  {
   "cell_type": "code",
   "execution_count": 2,
   "metadata": {},
   "outputs": [
    {
     "name": "stdout",
     "output_type": "stream",
     "text": [
      "100, 102, 104, 106, 108, 110, 112, 114, 116, 118, 120, 122, 124, 126, 128, 130, 132, 134, 136, 138, 140, 142, 144, 146, 148, 150, 152, 154, 156, 158, 160, 162, 164, 166, 168, 170, 172, 174, 176, 178, 180, 182, 184, 186, 188, 190, 192, 194, 196, 198, 200, 202, 204, 206, 208, 210, 212, 214, 216, 218, 220, 222, 224, 226, 228, 230, 232, 234, 236, 238, 240, 242, 244, 246, 248, 250, 252, 254, 256, 258, 260, 262, 264, 266, 268, 270, 272, 274, 276, 278, 280, 282, 284, 286, 288, 290, 292, 294, 296, 298, 300, 302, 304, 306, 308, 310, 312, 314, 316, 318, 320, 322, 324, 326, 328, 330, 332, 334, 336, 338, 340, 342, 344, 346, 348, 350, 352, 354, 356, 358, 360, 362, 364, 366, 368, 370, 372, 374, 376, 378, 380, 382, 384, 386, 388, 390, 392, 394, 396, 398, 400, "
     ]
    }
   ],
   "source": [
    "for i in range(100,401):\n",
    "    if i%2==0:\n",
    "     print(i ,end=\", \")"
   ]
  }
 ],
 "metadata": {
  "kernelspec": {
   "display_name": "Python 3",
   "language": "python",
   "name": "python3"
  },
  "language_info": {
   "codemirror_mode": {
    "name": "ipython",
    "version": 3
   },
   "file_extension": ".py",
   "mimetype": "text/x-python",
   "name": "python",
   "nbconvert_exporter": "python",
   "pygments_lexer": "ipython3",
   "version": "3.12.8"
  }
 },
 "nbformat": 4,
 "nbformat_minor": 2
}
